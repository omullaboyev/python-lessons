{
  "nbformat": 4,
  "nbformat_minor": 0,
  "metadata": {
    "colab": {
      "name": "birinchi_nb.ipynb",
      "provenance": [],
      "authorship_tag": "ABX9TyPIz1++2Q/0cxnGmAd39aOg",
      "include_colab_link": true
    },
    "kernelspec": {
      "name": "python3",
      "display_name": "Python 3"
    },
    "language_info": {
      "name": "python"
    },
    "accelerator": "GPU"
  },
  "cells": [
    {
      "cell_type": "markdown",
      "metadata": {
        "id": "view-in-github",
        "colab_type": "text"
      },
      "source": [
        "<a href=\"https://colab.research.google.com/github/omullaboyev/python-lessons/blob/main/birinchi_nb.ipynb\" target=\"_parent\"><img src=\"https://colab.research.google.com/assets/colab-badge.svg\" alt=\"Open In Colab\"/></a>"
      ]
    },
    {
      "cell_type": "code",
      "metadata": {
        "colab": {
          "base_uri": "https://localhost:8080/"
        },
        "id": "zQ7ZxoecqMLH",
        "outputId": "36322d75-6e3a-4dbf-9328-be727c7e7ab0"
      },
      "source": [
        "print('Salom, Mohirdev')"
      ],
      "execution_count": null,
      "outputs": [
        {
          "output_type": "stream",
          "name": "stdout",
          "text": [
            "Salom, Mohirdev\n"
          ]
        }
      ]
    },
    {
      "cell_type": "markdown",
      "metadata": {
        "id": "aUmRH2jKreu8"
      },
      "source": [
        "# Heading\n",
        "- [Kirish](https://mohirdev.uz)\n",
        "- Muqaddima"
      ]
    },
    {
      "cell_type": "code",
      "metadata": {
        "id": "45OZaqyStRkf"
      },
      "source": [
        "import numpy as np\n",
        "import pandas as pd\n",
        "import sklearn as skl\n",
        "import matplotlib.pyplot as plt\n",
        "import seaborn as sbn\n",
        "import torch\n",
        "import tensorflow as tf\n",
        "import keras as ks"
      ],
      "execution_count": null,
      "outputs": []
    },
    {
      "cell_type": "code",
      "metadata": {
        "colab": {
          "base_uri": "https://localhost:8080/",
          "height": 35
        },
        "id": "Ri3emJUEt9E_",
        "outputId": "7de5d40b-cc6c-4a91-8bf3-24cf5bde0722"
      },
      "source": [
        "tf.__version__"
      ],
      "execution_count": null,
      "outputs": [
        {
          "output_type": "execute_result",
          "data": {
            "application/vnd.google.colaboratory.intrinsic+json": {
              "type": "string"
            },
            "text/plain": [
              "'2.6.0'"
            ]
          },
          "metadata": {},
          "execution_count": 8
        }
      ]
    },
    {
      "cell_type": "code",
      "metadata": {
        "colab": {
          "base_uri": "https://localhost:8080/",
          "height": 35
        },
        "id": "eybTOHXduKaf",
        "outputId": "820964fe-a519-4462-82bc-e5bd410369a9"
      },
      "source": [
        "torch.__version__"
      ],
      "execution_count": null,
      "outputs": [
        {
          "output_type": "execute_result",
          "data": {
            "application/vnd.google.colaboratory.intrinsic+json": {
              "type": "string"
            },
            "text/plain": [
              "'1.9.0+cu102'"
            ]
          },
          "metadata": {},
          "execution_count": 9
        }
      ]
    },
    {
      "cell_type": "code",
      "metadata": {
        "colab": {
          "base_uri": "https://localhost:8080/"
        },
        "id": "iMlinNzEuROu",
        "outputId": "77623666-d2cf-4aa8-9afa-17cb521ad1bd"
      },
      "source": [
        "import torch\n",
        "torch.cuda.is_available()"
      ],
      "execution_count": null,
      "outputs": [
        {
          "output_type": "execute_result",
          "data": {
            "text/plain": [
              "True"
            ]
          },
          "metadata": {},
          "execution_count": 2
        }
      ]
    },
    {
      "cell_type": "code",
      "metadata": {
        "colab": {
          "base_uri": "https://localhost:8080/"
        },
        "id": "eL6qQZDkuurI",
        "outputId": "db1b8ef8-9f50-4c86-dab7-57c47554b581"
      },
      "source": [
        "! ls"
      ],
      "execution_count": null,
      "outputs": [
        {
          "output_type": "stream",
          "name": "stdout",
          "text": [
            "sample_data\n"
          ]
        }
      ]
    },
    {
      "cell_type": "code",
      "metadata": {
        "colab": {
          "base_uri": "https://localhost:8080/",
          "height": 206
        },
        "id": "a5fOzuBsvCgW",
        "outputId": "5dcffa3d-1590-4112-f418-2d89f30283b5"
      },
      "source": [
        "import pandas as pd\n",
        "files = pd.read_excel('./data/Alerts20210928.xlsx')\n",
        "\n",
        "files.head()"
      ],
      "execution_count": null,
      "outputs": [
        {
          "output_type": "execute_result",
          "data": {
            "text/html": [
              "<div>\n",
              "<style scoped>\n",
              "    .dataframe tbody tr th:only-of-type {\n",
              "        vertical-align: middle;\n",
              "    }\n",
              "\n",
              "    .dataframe tbody tr th {\n",
              "        vertical-align: top;\n",
              "    }\n",
              "\n",
              "    .dataframe thead th {\n",
              "        text-align: right;\n",
              "    }\n",
              "</style>\n",
              "<table border=\"1\" class=\"dataframe\">\n",
              "  <thead>\n",
              "    <tr style=\"text-align: right;\">\n",
              "      <th></th>\n",
              "      <th>Ethoca Id</th>\n",
              "      <th>Alert Date</th>\n",
              "      <th>Order Date</th>\n",
              "      <th>Card Number</th>\n",
              "      <th>Amount</th>\n",
              "      <th>Currency</th>\n",
              "      <th>Billing Descriptor</th>\n",
              "    </tr>\n",
              "  </thead>\n",
              "  <tbody>\n",
              "    <tr>\n",
              "      <th>0</th>\n",
              "      <td>6IQ6UFUTTK5XWW2WO36K49UJT</td>\n",
              "      <td>2021-09-27 19:56:14</td>\n",
              "      <td>2021-09-03 00:00:00</td>\n",
              "      <td>5328396450982224</td>\n",
              "      <td>74.95</td>\n",
              "      <td>USD</td>\n",
              "      <td>1-310-8071306_TOPFARM</td>\n",
              "    </tr>\n",
              "    <tr>\n",
              "      <th>1</th>\n",
              "      <td>5TYSVT506ROT9ISSDSNXB8WZ5</td>\n",
              "      <td>2021-09-27 19:56:09</td>\n",
              "      <td>2021-09-22 00:00:00</td>\n",
              "      <td>5143773101980604</td>\n",
              "      <td>34.95</td>\n",
              "      <td>USD</td>\n",
              "      <td>1-508-5364331_BIBSKINS</td>\n",
              "    </tr>\n",
              "    <tr>\n",
              "      <th>2</th>\n",
              "      <td>81CFYDI2J2Q1MMSUJFP7ZL22J</td>\n",
              "      <td>2021-09-27 19:26:13</td>\n",
              "      <td>2021-09-22 00:00:00</td>\n",
              "      <td>5206020808551484</td>\n",
              "      <td>49.95</td>\n",
              "      <td>USD</td>\n",
              "      <td>1-609-9130020_101SKINS</td>\n",
              "    </tr>\n",
              "    <tr>\n",
              "      <th>3</th>\n",
              "      <td>50FBWSYH529RGNHTMKLERM43K</td>\n",
              "      <td>2021-09-27 18:48:22</td>\n",
              "      <td>2021-09-24 13:07:00</td>\n",
              "      <td>5172790064397224</td>\n",
              "      <td>124.95</td>\n",
              "      <td>USD</td>\n",
              "      <td>1-914-7647252_WE</td>\n",
              "    </tr>\n",
              "    <tr>\n",
              "      <th>4</th>\n",
              "      <td>BV1JLIBIGLJFLVQNPGDFBRYB5</td>\n",
              "      <td>2021-09-27 18:30:08</td>\n",
              "      <td>2021-09-09 07:25:06</td>\n",
              "      <td>5415903603710552</td>\n",
              "      <td>99.95</td>\n",
              "      <td>USD</td>\n",
              "      <td>1-321-2821854_THEONLIN</td>\n",
              "    </tr>\n",
              "  </tbody>\n",
              "</table>\n",
              "</div>"
            ],
            "text/plain": [
              "                   Ethoca Id  ...      Billing Descriptor\n",
              "0  6IQ6UFUTTK5XWW2WO36K49UJT  ...   1-310-8071306_TOPFARM\n",
              "1  5TYSVT506ROT9ISSDSNXB8WZ5  ...  1-508-5364331_BIBSKINS\n",
              "2  81CFYDI2J2Q1MMSUJFP7ZL22J  ...  1-609-9130020_101SKINS\n",
              "3  50FBWSYH529RGNHTMKLERM43K  ...        1-914-7647252_WE\n",
              "4  BV1JLIBIGLJFLVQNPGDFBRYB5  ...  1-321-2821854_THEONLIN\n",
              "\n",
              "[5 rows x 7 columns]"
            ]
          },
          "metadata": {},
          "execution_count": 4
        }
      ]
    },
    {
      "cell_type": "code",
      "metadata": {
        "id": "_GaMIimRv_3i"
      },
      "source": [
        ""
      ],
      "execution_count": null,
      "outputs": []
    }
  ]
}